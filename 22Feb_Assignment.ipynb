{
 "cells": [
  {
   "cell_type": "code",
   "execution_count": 2,
   "id": "591f96a8-b330-4eb5-897a-c6bce76646a9",
   "metadata": {},
   "outputs": [
    {
     "data": {
      "text/plain": [
       "pandas.core.series.Series"
      ]
     },
     "execution_count": 2,
     "metadata": {},
     "output_type": "execute_result"
    }
   ],
   "source": [
    "## Q1)\n",
    "import pandas as pd\n",
    "data=[4, 8, 15, 16, 23, 42]\n",
    "data_series=pd.Series(data)\n",
    "type(data_series)"
   ]
  },
  {
   "cell_type": "code",
   "execution_count": 3,
   "id": "6b437bf7-bbbd-4ed9-bccc-e82cbfbc9e86",
   "metadata": {},
   "outputs": [
    {
     "name": "stdout",
     "output_type": "stream",
     "text": [
      "0     4\n",
      "1     8\n",
      "2    15\n",
      "3    16\n",
      "4    23\n",
      "5    42\n",
      "dtype: int64\n"
     ]
    }
   ],
   "source": [
    "print(data_series)"
   ]
  },
  {
   "cell_type": "code",
   "execution_count": 4,
   "id": "50e08b9f-931c-4ebf-ae0f-6c31736d749c",
   "metadata": {},
   "outputs": [],
   "source": [
    "## Q2)\n",
    "l=[]\n",
    "for i in range(20,30):\n",
    "    l.append(i)"
   ]
  },
  {
   "cell_type": "code",
   "execution_count": 5,
   "id": "65de82dc-90bc-4280-8a65-83b6c3c0eff7",
   "metadata": {},
   "outputs": [],
   "source": [
    "l_series=pd.Series(l)"
   ]
  },
  {
   "cell_type": "code",
   "execution_count": 6,
   "id": "df8ebf73-99a8-4cee-8a19-2b5efb1cf3dd",
   "metadata": {},
   "outputs": [
    {
     "name": "stdout",
     "output_type": "stream",
     "text": [
      "0    20\n",
      "1    21\n",
      "2    22\n",
      "3    23\n",
      "4    24\n",
      "5    25\n",
      "6    26\n",
      "7    27\n",
      "8    28\n",
      "9    29\n",
      "dtype: int64\n"
     ]
    }
   ],
   "source": [
    "print(l_series)"
   ]
  },
  {
   "cell_type": "code",
   "execution_count": 7,
   "id": "d60d24ba-2a9c-4281-99eb-bdb6ec52588f",
   "metadata": {},
   "outputs": [],
   "source": [
    "## Q3)\n",
    "table={'Name':['Alice','Bob','Claire'],'Age':[25,30,27],'Gender':['Female','Male','Female']}\n",
    "table_df=pd.DataFrame(table)"
   ]
  },
  {
   "cell_type": "code",
   "execution_count": 8,
   "id": "f6454614-1d5e-466c-9b2f-6755f8718a6a",
   "metadata": {},
   "outputs": [
    {
     "data": {
      "text/html": [
       "<div>\n",
       "<style scoped>\n",
       "    .dataframe tbody tr th:only-of-type {\n",
       "        vertical-align: middle;\n",
       "    }\n",
       "\n",
       "    .dataframe tbody tr th {\n",
       "        vertical-align: top;\n",
       "    }\n",
       "\n",
       "    .dataframe thead th {\n",
       "        text-align: right;\n",
       "    }\n",
       "</style>\n",
       "<table border=\"1\" class=\"dataframe\">\n",
       "  <thead>\n",
       "    <tr style=\"text-align: right;\">\n",
       "      <th></th>\n",
       "      <th>Name</th>\n",
       "      <th>Age</th>\n",
       "      <th>Gender</th>\n",
       "    </tr>\n",
       "  </thead>\n",
       "  <tbody>\n",
       "    <tr>\n",
       "      <th>0</th>\n",
       "      <td>Alice</td>\n",
       "      <td>25</td>\n",
       "      <td>Female</td>\n",
       "    </tr>\n",
       "    <tr>\n",
       "      <th>1</th>\n",
       "      <td>Bob</td>\n",
       "      <td>30</td>\n",
       "      <td>Male</td>\n",
       "    </tr>\n",
       "    <tr>\n",
       "      <th>2</th>\n",
       "      <td>Claire</td>\n",
       "      <td>27</td>\n",
       "      <td>Female</td>\n",
       "    </tr>\n",
       "  </tbody>\n",
       "</table>\n",
       "</div>"
      ],
      "text/plain": [
       "     Name  Age  Gender\n",
       "0   Alice   25  Female\n",
       "1     Bob   30    Male\n",
       "2  Claire   27  Female"
      ]
     },
     "execution_count": 8,
     "metadata": {},
     "output_type": "execute_result"
    }
   ],
   "source": [
    "table_df.head()"
   ]
  },
  {
   "cell_type": "code",
   "execution_count": 10,
   "id": "17db2202-f257-4e57-be7e-77bd49b24517",
   "metadata": {},
   "outputs": [
    {
     "name": "stdout",
     "output_type": "stream",
     "text": [
      "<class 'pandas.core.series.Series'>\n"
     ]
    }
   ],
   "source": [
    "## Q4) Pandas Dataframe is 2-Dimensional labelled data structure with different data types which makes it very easy to manipulate and process\n",
    "#      the data. Pandas series on the otherhand is a 1-dimensional data structure with a common datatype.\n",
    "#      In question 3, the table_df is a data frame but Name column is a series.\n",
    "Name=table_df['Name']\n",
    "print(type(Name))"
   ]
  },
  {
   "cell_type": "code",
   "execution_count": 11,
   "id": "df52fc0a-015c-4857-8470-6edbc5d1fe2d",
   "metadata": {},
   "outputs": [
    {
     "name": "stdout",
     "output_type": "stream",
     "text": [
      "<class 'pandas.core.frame.DataFrame'>\n"
     ]
    }
   ],
   "source": [
    "print(type(table_df))"
   ]
  },
  {
   "cell_type": "code",
   "execution_count": 12,
   "id": "7fa6ff20-2a93-44c4-bf42-1d3bb3f5ce3d",
   "metadata": {},
   "outputs": [],
   "source": [
    "## Q5) The functions that we can use to manipulate the data are fillna(),dropna().\n",
    "#      We use fillna() when we need to fill missing values in the dataset."
   ]
  },
  {
   "cell_type": "code",
   "execution_count": 13,
   "id": "629e6906-f1b2-4937-9530-e4ac3947d395",
   "metadata": {},
   "outputs": [],
   "source": [
    "## Q6) Pandas series,dataframe and panel are all mutable in nature."
   ]
  },
  {
   "cell_type": "code",
   "execution_count": null,
   "id": "29c7c34a-c01f-4712-81e4-fd6641f02c0e",
   "metadata": {},
   "outputs": [],
   "source": [
    "## Q7)\n",
    "# Creating three series  \n",
    "names_series=pd.Series(['Ram','Varun','Riya','Karthik','Reshma'],name='Name')\n",
    "grades_series=pd.Series([9.3,6.1,5.4,7.0,6.5],name='Grades')\n",
    "roll_series=pd.Series([13,23,15,7,21],name='Roll Number')\n"
   ]
  },
  {
   "cell_type": "code",
   "execution_count": null,
   "id": "a4955bab-ea18-4156-a302-8de699f2c4c4",
   "metadata": {},
   "outputs": [],
   "source": [
    "# Concating them to form the dataframe\n",
    "info_df=pd.concat([name_series,grades_series,roll_series],axis=1)"
   ]
  },
  {
   "cell_type": "code",
   "execution_count": null,
   "id": "027b4c89-470a-42d1-a2dd-9e58c79eb4ca",
   "metadata": {},
   "outputs": [],
   "source": [
    "info_df.head()"
   ]
  },
  {
   "cell_type": "code",
   "execution_count": null,
   "id": "62c593f0-7d73-4096-a75f-b3b5df5ea5aa",
   "metadata": {},
   "outputs": [],
   "source": []
  }
 ],
 "metadata": {
  "kernelspec": {
   "display_name": "Python 3 (ipykernel)",
   "language": "python",
   "name": "python3"
  },
  "language_info": {
   "codemirror_mode": {
    "name": "ipython",
    "version": 3
   },
   "file_extension": ".py",
   "mimetype": "text/x-python",
   "name": "python",
   "nbconvert_exporter": "python",
   "pygments_lexer": "ipython3",
   "version": "3.10.8"
  }
 },
 "nbformat": 4,
 "nbformat_minor": 5
}
